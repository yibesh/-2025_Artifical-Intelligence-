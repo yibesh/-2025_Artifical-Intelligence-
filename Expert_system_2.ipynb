{
 "cells": [
  {
   "cell_type": "markdown",
   "id": "fa68f369-c923-47fc-b752-356272f3c675",
   "metadata": {},
   "source": [
    "## Diabetes Diagnosis Expert System"
   ]
  },
  {
   "cell_type": "code",
   "execution_count": 1,
   "id": "19ffa957-ecf5-4e44-8f3c-6c51b91433fd",
   "metadata": {},
   "outputs": [
    {
     "name": "stdout",
     "output_type": "stream",
     "text": [
      "Welcome to the Diabetes Diagnosis Expert System!\n",
      "Please answer the following questions with 'yes' or 'no'.\n"
     ]
    },
    {
     "name": "stdin",
     "output_type": "stream",
     "text": [
      "Are you over 45 years old?  no\n",
      "Do you have a family history of diabetes?  no\n",
      "Are you overweight or obese?  yes\n",
      "Do you often feel excessively thirsty?  yes\n",
      "Do you urinate frequently?  no\n",
      "Do you often feel unusually tired or fatigued?  no\n",
      "Do you experience blurred vision?  yes\n"
     ]
    },
    {
     "name": "stdout",
     "output_type": "stream",
     "text": [
      "Diagnosis: You do not seem to be at high risk of diabetes based on the provided information.\n"
     ]
    }
   ],
   "source": [
    "# Define a function to diagnose diabetes\n",
    "def diagnose_diabetes():\n",
    "    print(\"Welcome to the Diabetes Diagnosis Expert System!\")\n",
    "    print(\"Please answer the following questions with 'yes' or 'no'.\")\n",
    "\n",
    "    # Asking questions about common risk factors and symptoms\n",
    "    age = input(\"Are you over 45 years old? \").strip().lower()\n",
    "    family_history = input(\"Do you have a family history of diabetes? \").strip().lower()\n",
    "    overweight = input(\"Are you overweight or obese? \").strip().lower()\n",
    "    thirst = input(\"Do you often feel excessively thirsty? \").strip().lower()\n",
    "    frequent_urination = input(\"Do you urinate frequently? \").strip().lower()\n",
    "    fatigue = input(\"Do you often feel unusually tired or fatigued? \").strip().lower()\n",
    "    blurred_vision = input(\"Do you experience blurred vision? \").strip().lower()\n",
    "\n",
    "    # Rule-based logic for diagnosing diabetes\n",
    "    if (age == 'yes' and family_history == 'yes' and overweight == 'yes') or \\\n",
    "       (thirst == 'yes' and frequent_urination == 'yes') or \\\n",
    "       (fatigue == 'yes' and blurred_vision == 'yes'):\n",
    "        print(\"Diagnosis: You may be at risk of diabetes. Please consult a healthcare professional for further evaluation.\")\n",
    "    else:\n",
    "        print(\"Diagnosis: You do not seem to be at high risk of diabetes based on the provided information.\")\n",
    "\n",
    "# Run the expert system\n",
    "diagnose_diabetes()"
   ]
  },
  {
   "cell_type": "code",
   "execution_count": null,
   "id": "8e5ca62e-4e25-4402-a07c-5d13f133b175",
   "metadata": {},
   "outputs": [],
   "source": []
  },
  {
   "cell_type": "markdown",
   "id": "3ffdd15c-5de8-4953-82ad-71e21686a6cc",
   "metadata": {},
   "source": [
    "## Expert System Optical Network Fault Diagnosis"
   ]
  },
  {
   "cell_type": "code",
   "execution_count": 4,
   "id": "84c9173c-d5bb-4ff9-9344-829fff2f316d",
   "metadata": {},
   "outputs": [
    {
     "name": "stdin",
     "output_type": "stream",
     "text": [
      "Enter fiber loss level (low, moderate, high):  moderate \n",
      "Enter signal power level (low, moderate, high):  low\n",
      "Enter noise level (low, high):  high\n",
      "Enter bit error rate (low, high):  low\n",
      "Enter connection status (up, down):  down\n"
     ]
    },
    {
     "name": "stdout",
     "output_type": "stream",
     "text": [
      "Diagnosis: Low signal power detected. Possible causes: misalignment, attenuation, or dirty connectors.\n"
     ]
    }
   ],
   "source": [
    "def diagnose_fault(fiber_loss, signal_power, noise_level, bit_error_rate, connection_status):\n",
    "    if fiber_loss == 'high':\n",
    "        return \"Diagnosis: High fiber loss detected. Possible causes: fiber bending, fiber cut, or excessive splicing loss.\"\n",
    "    elif signal_power == 'low':\n",
    "        return \"Diagnosis: Low signal power detected. Possible causes: misalignment, attenuation, or dirty connectors.\"\n",
    "    elif noise_level == 'high':\n",
    "        return \"Diagnosis: High noise level detected. Possible causes: amplifier issues, interference, or poor shielding.\"\n",
    "    elif bit_error_rate == 'high':\n",
    "        return \"Diagnosis: High Bit Error Rate (BER) detected. Possible causes: signal degradation, dispersion, or nonlinear effects.\"\n",
    "    elif connection_status == 'down':\n",
    "        return \"Diagnosis: Connection is down. Possible causes: fiber break, power failure, or hardware failure.\"\n",
    "    elif fiber_loss == 'moderate' and signal_power == 'moderate':\n",
    "        return \"Diagnosis: Moderate fiber loss detected. Possible causes: partial misalignment, aging fiber, or minor splicing issues.\"\n",
    "    elif fiber_loss == 'low' and noise_level == 'low' and bit_error_rate == 'low':\n",
    "        return \"Diagnosis: The optical network is operating normally.\"\n",
    "    else:\n",
    "        return \"Diagnosis: Unable to determine the exact fault. Further analysis required.\"\n",
    "\n",
    "# Function to collect user input\n",
    "def get_user_input():\n",
    "    questions = {\n",
    "        \"fiber_loss\": \"Enter fiber loss level (low, moderate, high): \",\n",
    "        \"signal_power\": \"Enter signal power level (low, moderate, high): \",\n",
    "        \"noise_level\": \"Enter noise level (low, high): \",\n",
    "        \"bit_error_rate\": \"Enter bit error rate (low, high): \",\n",
    "        \"connection_status\": \"Enter connection status (up, down): \"\n",
    "    }\n",
    "    \n",
    "    responses = {}\n",
    "    for key, question in questions.items():\n",
    "        responses[key] = input(question).strip().lower()\n",
    "    \n",
    "    return responses\n",
    "\n",
    "# Run the expert system\n",
    "if __name__ == \"__main__\":\n",
    "    user_data = get_user_input()\n",
    "    diagnosis = diagnose_fault(\n",
    "        user_data[\"fiber_loss\"],\n",
    "        user_data[\"signal_power\"],\n",
    "        user_data[\"noise_level\"],\n",
    "        user_data[\"bit_error_rate\"],\n",
    "        user_data[\"connection_status\"]\n",
    "    )\n",
    "    print(diagnosis)\n"
   ]
  },
  {
   "cell_type": "code",
   "execution_count": null,
   "id": "aad02b17-1378-41fb-9fca-af4cda6930b8",
   "metadata": {},
   "outputs": [],
   "source": []
  }
 ],
 "metadata": {
  "kernelspec": {
   "display_name": "Python 3 (ipykernel)",
   "language": "python",
   "name": "python3"
  },
  "language_info": {
   "codemirror_mode": {
    "name": "ipython",
    "version": 3
   },
   "file_extension": ".py",
   "mimetype": "text/x-python",
   "name": "python",
   "nbconvert_exporter": "python",
   "pygments_lexer": "ipython3",
   "version": "3.11.7"
  }
 },
 "nbformat": 4,
 "nbformat_minor": 5
}
