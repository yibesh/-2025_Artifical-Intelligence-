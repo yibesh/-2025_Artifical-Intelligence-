{
  "cells": [
    {
      "cell_type": "markdown",
      "metadata": {
        "id": "view-in-github",
        "colab_type": "text"
      },
      "source": [
        "<a href=\"https://colab.research.google.com/github/yibesh/-2025_Artifical-Intelligence-/blob/main/Python_Basics_Tutorial_Final.ipynb\" target=\"_parent\"><img src=\"https://colab.research.google.com/assets/colab-badge.svg\" alt=\"Open In Colab\"/></a>"
      ]
    },
    {
      "cell_type": "markdown",
      "id": "de99c17d",
      "metadata": {
        "id": "de99c17d"
      },
      "source": [
        "# 📘 Python Basics Tutorial\n",
        "Welcome to the beginner-friendly Python tutorial using Jupyter Notebook."
      ]
    },
    {
      "cell_type": "markdown",
      "id": "86b7af90",
      "metadata": {
        "id": "86b7af90"
      },
      "source": [
        "## 1. Introduction\n",
        "What is Python?\n",
        "- Python is a popular programming language.\n",
        "- Easy to learn, versatile, and widely used in AI, Data Science, and Web Development.\n",
        "\n",
        "Let's try our first Python code:"
      ]
    },
    {
      "cell_type": "code",
      "execution_count": 1,
      "id": "4146038c",
      "metadata": {
        "colab": {
          "base_uri": "https://localhost:8080/"
        },
        "id": "4146038c",
        "outputId": "6040e2ff-1dc8-4fce-db07-76b8fb9145b4"
      },
      "outputs": [
        {
          "output_type": "stream",
          "name": "stdout",
          "text": [
            "Hello, Python World!\n"
          ]
        }
      ],
      "source": [
        "print(\"Hello, Python World!\")"
      ]
    },
    {
      "cell_type": "markdown",
      "id": "6a15ace2",
      "metadata": {
        "id": "6a15ace2"
      },
      "source": [
        "## 2. Variables and Data Types\n",
        "We use variables to store values."
      ]
    },
    {
      "cell_type": "code",
      "execution_count": 2,
      "id": "64037e37",
      "metadata": {
        "colab": {
          "base_uri": "https://localhost:8080/"
        },
        "id": "64037e37",
        "outputId": "1c0620b6-a552-43b9-a932-5478162a736f"
      },
      "outputs": [
        {
          "output_type": "stream",
          "name": "stdout",
          "text": [
            "10 3.14 Alice True\n"
          ]
        }
      ],
      "source": [
        "x = 10  # integer\n",
        "y = 3.14  # float\n",
        "name = \"Alice\"  # string\n",
        "is_student = True  # boolean\n",
        "\n",
        "print(x, y, name, is_student)"
      ]
    },
    {
      "cell_type": "markdown",
      "id": "f041a1ac",
      "metadata": {
        "id": "f041a1ac"
      },
      "source": [
        "📝 **Exercise**: Create variables for your age, height, and name."
      ]
    },
    {
      "cell_type": "markdown",
      "id": "baa257d5",
      "metadata": {
        "id": "baa257d5"
      },
      "source": [
        "## 3. Basic Operations"
      ]
    },
    {
      "cell_type": "code",
      "execution_count": 3,
      "id": "ac32c310",
      "metadata": {
        "colab": {
          "base_uri": "https://localhost:8080/"
        },
        "id": "ac32c310",
        "outputId": "6760e047-0531-4fa6-da0a-f9fc7038358f"
      },
      "outputs": [
        {
          "output_type": "stream",
          "name": "stdout",
          "text": [
            "10 4 21 2.3333333333333335 1 343\n",
            "True False True\n"
          ]
        }
      ],
      "source": [
        "a = 7\n",
        "b = 3\n",
        "print(a + b, a - b, a * b, a / b, a % b, a ** b)\n",
        "print(a > b, a == b, a != b)"
      ]
    },
    {
      "cell_type": "markdown",
      "id": "847936b7",
      "metadata": {
        "id": "847936b7"
      },
      "source": [
        "📝 **Exercise**: Write a code to check if your age is greater than 18."
      ]
    },
    {
      "cell_type": "markdown",
      "id": "d860c399",
      "metadata": {
        "id": "d860c399"
      },
      "source": [
        "## 4. Strings and Formatting"
      ]
    },
    {
      "cell_type": "code",
      "execution_count": 4,
      "id": "5b13a3c8",
      "metadata": {
        "colab": {
          "base_uri": "https://localhost:8080/"
        },
        "id": "5b13a3c8",
        "outputId": "a0f36d33-70b4-4a72-f6b3-b1d70c83ac36"
      },
      "outputs": [
        {
          "output_type": "stream",
          "name": "stdout",
          "text": [
            "PYTHON IS FUN\n",
            "My name is Alice and I am 10 years old.\n"
          ]
        }
      ],
      "source": [
        "text = \"Python is Fun\"\n",
        "print(text.upper())\n",
        "print(f\"My name is {name} and I am {x} years old.\")"
      ]
    },
    {
      "cell_type": "markdown",
      "id": "aff56370",
      "metadata": {
        "id": "aff56370"
      },
      "source": [
        "📝 **Exercise**: Take your name and print it in uppercase."
      ]
    },
    {
      "cell_type": "markdown",
      "id": "7d30c790",
      "metadata": {
        "id": "7d30c790"
      },
      "source": [
        "## 5. Lists"
      ]
    },
    {
      "cell_type": "code",
      "execution_count": 5,
      "id": "67432180",
      "metadata": {
        "colab": {
          "base_uri": "https://localhost:8080/"
        },
        "id": "67432180",
        "outputId": "62a50ef5-ae69-4b4f-aec7-1b12ffe257a3"
      },
      "outputs": [
        {
          "output_type": "stream",
          "name": "stdout",
          "text": [
            "apple\n",
            "['apple', 'banana', 'cherry', 'orange']\n"
          ]
        }
      ],
      "source": [
        "fruits = [\"apple\", \"banana\", \"cherry\"]\n",
        "print(fruits[0])\n",
        "fruits.append(\"orange\")\n",
        "print(fruits)"
      ]
    },
    {
      "cell_type": "markdown",
      "id": "81283acf",
      "metadata": {
        "id": "81283acf"
      },
      "source": [
        "📝 **Exercise**: Create a list of your 3 favorite movies."
      ]
    },
    {
      "cell_type": "markdown",
      "id": "9c8507c5",
      "metadata": {
        "id": "9c8507c5"
      },
      "source": [
        "## 6. Conditionals (if / else)"
      ]
    },
    {
      "cell_type": "code",
      "execution_count": 8,
      "id": "1ea39749",
      "metadata": {
        "colab": {
          "base_uri": "https://localhost:8080/"
        },
        "id": "1ea39749",
        "outputId": "3ce1acfb-01da-42bb-cebf-94d9b4513fb9"
      },
      "outputs": [
        {
          "output_type": "stream",
          "name": "stdout",
          "text": [
            "You are an adult\n"
          ]
        }
      ],
      "source": [
        "age = 20\n",
        "if age >= 18:\n",
        "    print(\"You are an adult\")\n",
        "else:\n",
        "    print(\"You are a minor\")"
      ]
    },
    {
      "cell_type": "markdown",
      "id": "7199ebb6",
      "metadata": {
        "id": "7199ebb6"
      },
      "source": [
        "📝 **Exercise**: Write a program that checks if a number is positive, negative, or zero."
      ]
    },
    {
      "cell_type": "markdown",
      "id": "01cf5e5b",
      "metadata": {
        "id": "01cf5e5b"
      },
      "source": [
        "## 7. Loops (for / while)"
      ]
    },
    {
      "cell_type": "code",
      "execution_count": 9,
      "id": "fc21ab9d",
      "metadata": {
        "colab": {
          "base_uri": "https://localhost:8080/"
        },
        "id": "fc21ab9d",
        "outputId": "3ee6e6e3-7264-42c9-8680-1e4271c6d03a"
      },
      "outputs": [
        {
          "output_type": "stream",
          "name": "stdout",
          "text": [
            "Hello 0\n",
            "Hello 1\n",
            "Hello 2\n",
            "Hello 3\n",
            "Hello 4\n",
            "Counting: 0\n",
            "Counting: 1\n",
            "Counting: 2\n"
          ]
        }
      ],
      "source": [
        "for i in range(5):\n",
        "    print(\"Hello\", i)\n",
        "\n",
        "count = 0\n",
        "while count < 3:\n",
        "    print(\"Counting:\", count)\n",
        "    count += 1"
      ]
    },
    {
      "cell_type": "markdown",
      "id": "dbe1f4b4",
      "metadata": {
        "id": "dbe1f4b4"
      },
      "source": [
        "📝 **Exercise**: Print all even numbers between 1 and 20."
      ]
    },
    {
      "cell_type": "markdown",
      "id": "ca614b81",
      "metadata": {
        "id": "ca614b81"
      },
      "source": [
        "## 8. Functions"
      ]
    },
    {
      "cell_type": "code",
      "execution_count": 10,
      "id": "8d61ffcd",
      "metadata": {
        "colab": {
          "base_uri": "https://localhost:8080/"
        },
        "id": "8d61ffcd",
        "outputId": "d9e6c8cb-5e3d-468b-c187-371ad0d02dfd"
      },
      "outputs": [
        {
          "output_type": "stream",
          "name": "stdout",
          "text": [
            "Hello, Alice!\n"
          ]
        }
      ],
      "source": [
        "def greet(name):\n",
        "    return f\"Hello, {name}!\"\n",
        "\n",
        "print(greet(\"Alice\"))"
      ]
    },
    {
      "cell_type": "markdown",
      "id": "4ed08e08",
      "metadata": {
        "id": "4ed08e08"
      },
      "source": [
        "📝 **Exercise**: Write a function that calculates the square of a number."
      ]
    },
    {
      "cell_type": "markdown",
      "id": "e06fd769",
      "metadata": {
        "id": "e06fd769"
      },
      "source": [
        "## 9. Dictionaries"
      ]
    },
    {
      "cell_type": "code",
      "execution_count": 11,
      "id": "cd99f6fa",
      "metadata": {
        "colab": {
          "base_uri": "https://localhost:8080/"
        },
        "id": "cd99f6fa",
        "outputId": "fa2d15ee-ac28-4e7a-a0f8-554173011425"
      },
      "outputs": [
        {
          "output_type": "stream",
          "name": "stdout",
          "text": [
            "Alice\n"
          ]
        }
      ],
      "source": [
        "student = {\"name\": \"Alice\", \"age\": 21, \"grade\": \"A\"}\n",
        "print(student[\"name\"])"
      ]
    },
    {
      "cell_type": "markdown",
      "id": "b4e0232f",
      "metadata": {
        "id": "b4e0232f"
      },
      "source": [
        "📝 **Exercise**: Create a dictionary of your own info (name, country, hobby)."
      ]
    },
    {
      "cell_type": "markdown",
      "id": "5bbcbd6b",
      "metadata": {
        "id": "5bbcbd6b"
      },
      "source": [
        "## 10. Simple Project: Calculator\n",
        "Let's build a simple calculator that can add, subtract, multiply, and divide two numbers."
      ]
    },
    {
      "cell_type": "code",
      "execution_count": 12,
      "id": "859fe578",
      "metadata": {
        "colab": {
          "base_uri": "https://localhost:8080/"
        },
        "id": "859fe578",
        "outputId": "078bf8e9-f660-4e23-c36f-321d4c42b541"
      },
      "outputs": [
        {
          "output_type": "stream",
          "name": "stdout",
          "text": [
            "15\n",
            "50\n"
          ]
        }
      ],
      "source": [
        "def calculator(a, b, operation):\n",
        "    if operation == \"add\":\n",
        "        return a + b\n",
        "    elif operation == \"subtract\":\n",
        "        return a - b\n",
        "    elif operation == \"multiply\":\n",
        "        return a * b\n",
        "    elif operation == \"divide\":\n",
        "        return a / b\n",
        "    else:\n",
        "        return \"Invalid operation\"\n",
        "\n",
        "print(calculator(10, 5, \"add\"))\n",
        "print(calculator(10, 5, \"multiply\"))"
      ]
    },
    {
      "cell_type": "markdown",
      "id": "5c79a8d6",
      "metadata": {
        "id": "5c79a8d6"
      },
      "source": [
        "## 11. Arrays with NumPy\n",
        "Arrays are like lists but more powerful for numerical operations."
      ]
    },
    {
      "cell_type": "code",
      "execution_count": 13,
      "id": "47149f5c",
      "metadata": {
        "colab": {
          "base_uri": "https://localhost:8080/"
        },
        "id": "47149f5c",
        "outputId": "1e9e9b12-a6a7-49b2-82ea-42265aba72c7"
      },
      "outputs": [
        {
          "output_type": "stream",
          "name": "stdout",
          "text": [
            "Array: [1 2 3 4 5]\n",
            "Mean: 3.0\n",
            "Sum: 15\n"
          ]
        }
      ],
      "source": [
        "import numpy as np\n",
        "\n",
        "arr = np.array([1, 2, 3, 4, 5])\n",
        "print('Array:', arr)\n",
        "print('Mean:', np.mean(arr))\n",
        "print('Sum:', np.sum(arr))"
      ]
    },
    {
      "cell_type": "markdown",
      "id": "5c0c70df",
      "metadata": {
        "id": "5c0c70df"
      },
      "source": [
        "📝 **Exercise**: Create a NumPy array with numbers 1 to 10 and find their average."
      ]
    },
    {
      "cell_type": "markdown",
      "id": "ba1fd8da",
      "metadata": {
        "id": "ba1fd8da"
      },
      "source": [
        "## 12. Data Visualization with Matplotlib\n",
        "We use Matplotlib to draw charts and graphs."
      ]
    },
    {
      "cell_type": "code",
      "execution_count": 14,
      "id": "d7e27d24",
      "metadata": {
        "colab": {
          "base_uri": "https://localhost:8080/",
          "height": 472
        },
        "id": "d7e27d24",
        "outputId": "17e1acc1-1239-4694-8145-092db2f3c347"
      },
      "outputs": [
        {
          "output_type": "display_data",
          "data": {
            "text/plain": [
              "<Figure size 640x480 with 1 Axes>"
            ],
            "image/png": "[encoded data removed]"
          },
          "metadata": {}
        }
      ],
      "source": [
        "import matplotlib.pyplot as plt\n",
        "\n",
        "x = [1, 2, 3, 4, 5]\n",
        "y = [1, 4, 9, 16, 25]\n",
        "\n",
        "plt.plot(x, y, marker='o')\n",
        "plt.title('Square Numbers')\n",
        "plt.xlabel('x values')\n",
        "plt.ylabel('y values')\n",
        "plt.show()"
      ]
    },
    {
      "cell_type": "markdown",
      "id": "05dc486f",
      "metadata": {
        "id": "05dc486f"
      },
      "source": [
        "📝 **Exercise**: Plot a line chart of numbers 1 to 10 and their cubes."
      ]
    },
    {
      "cell_type": "markdown",
      "id": "e3f6cb47",
      "metadata": {
        "id": "e3f6cb47"
      },
      "source": [
        "## 13. More Matplotlib Plots\n",
        "Matplotlib can create many types of plots."
      ]
    },
    {
      "cell_type": "markdown",
      "id": "fec0c7f7",
      "metadata": {
        "id": "fec0c7f7"
      },
      "source": [
        "### Line Plot"
      ]
    },
    {
      "cell_type": "code",
      "execution_count": 15,
      "id": "329cebd0",
      "metadata": {
        "colab": {
          "base_uri": "https://localhost:8080/",
          "height": 452
        },
        "id": "329cebd0",
        "outputId": "aef92f12-84e6-4568-beaf-2f528a7c9d4d"
      },
      "outputs": [
        {
          "output_type": "display_data",
          "data": {
            "text/plain": [
              "<Figure size 640x480 with 1 Axes>"
            ],
            "image/png": "[encoded data removed]"
          },
          "metadata": {}
        }
      ],
      "source": [
        "x = [1, 2, 3, 4, 5]\n",
        "y = [2, 4, 6, 8, 10]\n",
        "\n",
        "plt.plot(x, y, color='blue', marker='o')\n",
        "plt.title('Line Plot')\n",
        "plt.show()"
      ]
    },
    {
      "cell_type": "markdown",
      "id": "e5eaad04",
      "metadata": {
        "id": "e5eaad04"
      },
      "source": [
        "### Bar Chart"
      ]
    },
    {
      "cell_type": "code",
      "execution_count": 16,
      "id": "a2e72f49",
      "metadata": {
        "colab": {
          "base_uri": "https://localhost:8080/",
          "height": 452
        },
        "id": "a2e72f49",
        "outputId": "34201c79-a062-49d3-f0e3-c1ce8aceae40"
      },
      "outputs": [
        {
          "output_type": "display_data",
          "data": {
            "text/plain": [
              "<Figure size 640x480 with 1 Axes>"
            ],
            "image/png": "[encoded data removed]"
          },
          "metadata": {}
        }
      ],
      "source": [
        "categories = ['A', 'B', 'C', 'D']\n",
        "values = [3, 7, 2, 5]\n",
        "\n",
        "plt.bar(categories, values, color='green')\n",
        "plt.title('Bar Chart')\n",
        "plt.show()"
      ]
    },
    {
      "cell_type": "markdown",
      "id": "3d50d2e7",
      "metadata": {
        "id": "3d50d2e7"
      },
      "source": [
        "### Scatter Plot"
      ]
    },
    {
      "cell_type": "code",
      "execution_count": 17,
      "id": "f42432f2",
      "metadata": {
        "colab": {
          "base_uri": "https://localhost:8080/",
          "height": 452
        },
        "id": "f42432f2",
        "outputId": "609434bd-6661-4619-9fd4-467c617337dd"
      },
      "outputs": [
        {
          "output_type": "display_data",
          "data": {
            "text/plain": [
              "<Figure size 640x480 with 1 Axes>"
            ],
            "image/png": "[encoded data removed]"
          },
          "metadata": {}
        }
      ],
      "source": [
        "x = [5, 7, 8, 7, 6, 9, 5, 6, 7, 8]\n",
        "y = [99, 86, 87, 88, 100, 86, 103, 87, 94, 78]\n",
        "\n",
        "plt.scatter(x, y, color='red')\n",
        "plt.title('Scatter Plot')\n",
        "plt.show()"
      ]
    },
    {
      "cell_type": "markdown",
      "id": "987be128",
      "metadata": {
        "id": "987be128"
      },
      "source": [
        "### Histogram"
      ]
    },
    {
      "cell_type": "code",
      "execution_count": 18,
      "id": "cc0b6a4d",
      "metadata": {
        "colab": {
          "base_uri": "https://localhost:8080/",
          "height": 452
        },
        "id": "cc0b6a4d",
        "outputId": "422ed936-04bd-45cf-cfe1-07c567fa57db"
      },
      "outputs": [
        {
          "output_type": "display_data",
          "data": {
            "text/plain": [
              "<Figure size 640x480 with 1 Axes>"
            ],
            "image/png": "[encoded data removed]"
          },
          "metadata": {}
        }
      ],
      "source": [
        "data = [1,2,2,3,3,3,4,4,4,4,5,5,6,7,8,8,9]\n",
        "\n",
        "plt.hist(data, bins=5, color='purple', edgecolor='black')\n",
        "plt.title('Histogram')\n",
        "plt.show()"
      ]
    },
    {
      "cell_type": "markdown",
      "id": "626b0430",
      "metadata": {
        "id": "626b0430"
      },
      "source": [
        "### Pie Chart"
      ]
    },
    {
      "cell_type": "code",
      "execution_count": 19,
      "id": "10a45949",
      "metadata": {
        "colab": {
          "base_uri": "https://localhost:8080/",
          "height": 428
        },
        "id": "10a45949",
        "outputId": "7cfc1651-71f9-4b06-9d44-5c0cc2ac2d3e"
      },
      "outputs": [
        {
          "output_type": "display_data",
          "data": {
            "text/plain": [
              "<Figure size 640x480 with 1 Axes>"
            ],
            "image/png": "[encoded data removed]"
          },
          "metadata": {}
        }
      ],
      "source": [
        "sizes = [15, 30, 45, 10]\n",
        "labels = ['A', 'B', 'C', 'D']\n",
        "\n",
        "plt.pie(sizes, labels=labels, autopct='%1.1f%%', startangle=90)\n",
        "plt.title('Pie Chart')\n",
        "plt.show()"
      ]
    },
    {
      "cell_type": "markdown",
      "id": "a81333ed",
      "metadata": {
        "id": "a81333ed"
      },
      "source": [
        "📝 **Exercise**: Create a bar chart showing the population of 5 countries of your choice."
      ]
    }
  ],
  "metadata": {
    "colab": {
      "provenance": [],
      "include_colab_link": true
    },
    "language_info": {
      "name": "python"
    },
    "kernelspec": {
      "name": "python3",
      "display_name": "Python 3"
    }
  },
  "nbformat": 4,
  "nbformat_minor": 5
}