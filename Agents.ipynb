{
  "nbformat": 4,
  "nbformat_minor": 0,
  "metadata": {
    "colab": {
      "provenance": [],
      "authorship_tag": "ABX9TyOWz5UiFtTWDqDNT040ICMl",
      "include_colab_link": true
    },
    "kernelspec": {
      "name": "python3",
      "display_name": "Python 3"
    },
    "language_info": {
      "name": "python"
    }
  },
  "cells": [
    {
      "cell_type": "markdown",
      "metadata": {
        "id": "view-in-github",
        "colab_type": "text"
      },
      "source": [
        "<a href=\"https://colab.research.google.com/github/yibesh/-2025_Artifical-Intelligence-/blob/main/Agents.ipynb\" target=\"_parent\"><img src=\"https://colab.research.google.com/assets/colab-badge.svg\" alt=\"Open In Colab\"/></a>"
      ]
    },
    {
      "cell_type": "markdown",
      "source": [
        "**Reflex Agen**t\n",
        "\n",
        "Scenario: Temperature control using simple rules."
      ],
      "metadata": {
        "id": "sEQTSGrW7szt"
      }
    },
    {
      "cell_type": "code",
      "execution_count": 1,
      "metadata": {
        "colab": {
          "base_uri": "https://localhost:8080/"
        },
        "id": "IIJTj8cA7p_r",
        "outputId": "dbc4ea51-ba20-4d21-e725-09681b203cab"
      },
      "outputs": [
        {
          "output_type": "stream",
          "name": "stdout",
          "text": [
            "Temperature: 20°C -> Action: Do nothing\n",
            "Temperature: 27°C -> Action: Decrease temperature\n",
            "Temperature: 25°C -> Action: Do nothing\n",
            "Temperature: 27°C -> Action: Decrease temperature\n",
            "Temperature: 24°C -> Action: Do nothing\n",
            "Temperature: 23°C -> Action: Do nothing\n",
            "Temperature: 27°C -> Action: Decrease temperature\n",
            "Temperature: 23°C -> Action: Do nothing\n",
            "Temperature: 19°C -> Action: Increase temperature\n",
            "Temperature: 25°C -> Action: Do nothing\n"
          ]
        }
      ],
      "source": [
        "import random\n",
        "\n",
        "# Reflex agent: acts only based on current sensor reading\n",
        "def reflex_agent(temp):\n",
        "    if temp < 20:\n",
        "        return \"Increase temperature\"\n",
        "    elif temp > 25:\n",
        "        return \"Decrease temperature\"\n",
        "    else:\n",
        "        return \"Do nothing\"\n",
        "\n",
        "# Simulate 10 sensor readings\n",
        "for t in range(10):\n",
        "    temp = random.randint(18, 28)\n",
        "    action = reflex_agent(temp)\n",
        "    print(f\"Temperature: {temp}°C -> Action: {action}\")\n"
      ]
    },
    {
      "cell_type": "markdown",
      "source": [
        "**Model-Based Agent**\n",
        "\n",
        "Scenario: Corrects sensor drift using a simple model."
      ],
      "metadata": {
        "id": "z9Dz4Ks48Pb1"
      }
    },
    {
      "cell_type": "code",
      "source": [
        "import random\n",
        "\n",
        "# True value\n",
        "true_temp = 22\n",
        "\n",
        "# Model-based agent: keeps track of bias\n",
        "estimated_bias = 0\n",
        "\n",
        "for t in range(10):\n",
        "    # Sensor reading with drift and noise\n",
        "    reading = true_temp + estimated_bias + random.uniform(-1, 1)\n",
        "\n",
        "    # Agent estimates bias and corrects\n",
        "    estimated_bias = reading - true_temp\n",
        "    corrected = reading - estimated_bias\n",
        "\n",
        "    print(f\"Reading: {reading:.2f}, Corrected: {corrected:.2f}, Bias estimate: {estimated_bias:.2f}\")\n"
      ],
      "metadata": {
        "colab": {
          "base_uri": "https://localhost:8080/"
        },
        "id": "Ev2vW42U8O-d",
        "outputId": "20450cb5-e983-4f09-a820-10e8ebaf57fd"
      },
      "execution_count": 2,
      "outputs": [
        {
          "output_type": "stream",
          "name": "stdout",
          "text": [
            "Reading: 22.81, Corrected: 22.00, Bias estimate: 0.81\n",
            "Reading: 23.51, Corrected: 22.00, Bias estimate: 1.51\n",
            "Reading: 23.27, Corrected: 22.00, Bias estimate: 1.27\n",
            "Reading: 24.17, Corrected: 22.00, Bias estimate: 2.17\n",
            "Reading: 23.99, Corrected: 22.00, Bias estimate: 1.99\n",
            "Reading: 24.08, Corrected: 22.00, Bias estimate: 2.08\n",
            "Reading: 25.00, Corrected: 22.00, Bias estimate: 3.00\n",
            "Reading: 25.95, Corrected: 22.00, Bias estimate: 3.95\n",
            "Reading: 26.24, Corrected: 22.00, Bias estimate: 4.24\n",
            "Reading: 26.15, Corrected: 22.00, Bias estimate: 4.15\n"
          ]
        }
      ]
    },
    {
      "cell_type": "markdown",
      "source": [
        "**Goal-Based Agent**\n",
        "\n",
        "Scenario: 1D agent moves to a target location."
      ],
      "metadata": {
        "id": "YuFzarBQ8XsE"
      }
    },
    {
      "cell_type": "code",
      "source": [
        "import random\n",
        "\n",
        "# Target position\n",
        "target = random.randint(0, 20)\n",
        "# Agent start\n",
        "position = 0\n",
        "\n",
        "for step in range(10):\n",
        "    if position < target:\n",
        "        action = \"Move right\"\n",
        "        position += 1\n",
        "    elif position > target:\n",
        "        action = \"Move left\"\n",
        "        position -= 1\n",
        "    else:\n",
        "        action = \"Stay\"\n",
        "\n",
        "    print(f\"Step {step}: Position: {position}, Action: {action}, Target: {target}\")\n"
      ],
      "metadata": {
        "colab": {
          "base_uri": "https://localhost:8080/"
        },
        "id": "0nkJKT7f8X49",
        "outputId": "cbe7d2bb-6dee-40d5-952a-36d8ebbac9b8"
      },
      "execution_count": 3,
      "outputs": [
        {
          "output_type": "stream",
          "name": "stdout",
          "text": [
            "Step 0: Position: 1, Action: Move right, Target: 6\n",
            "Step 1: Position: 2, Action: Move right, Target: 6\n",
            "Step 2: Position: 3, Action: Move right, Target: 6\n",
            "Step 3: Position: 4, Action: Move right, Target: 6\n",
            "Step 4: Position: 5, Action: Move right, Target: 6\n",
            "Step 5: Position: 6, Action: Move right, Target: 6\n",
            "Step 6: Position: 6, Action: Stay, Target: 6\n",
            "Step 7: Position: 6, Action: Stay, Target: 6\n",
            "Step 8: Position: 6, Action: Stay, Target: 6\n",
            "Step 9: Position: 6, Action: Stay, Target: 6\n"
          ]
        }
      ]
    },
    {
      "cell_type": "markdown",
      "source": [
        "**Utility-Based Agent**\n",
        "\n",
        "Scenario: Moves toward target while minimizing movement cost."
      ],
      "metadata": {
        "id": "z_cxErsC8eDd"
      }
    },
    {
      "cell_type": "code",
      "source": [
        "import random\n",
        "\n",
        "# Target position\n",
        "target = random.randint(0, 20)\n",
        "# Agent start\n",
        "position = 0\n",
        "total_cost = 0\n",
        "\n",
        "for step in range(10):\n",
        "    # Compute utility for each action\n",
        "    utilities = {\n",
        "        \"left\": -(abs((position-1) - target) + 0.1),\n",
        "        \"right\": -(abs((position+1) - target) + 0.1),\n",
        "        \"stay\": -(abs(position - target))\n",
        "    }\n",
        "\n",
        "    # Choose action with maximum utility\n",
        "    action = max(utilities, key=utilities.get)\n",
        "\n",
        "    # Execute action\n",
        "    if action == \"left\":\n",
        "        position -= 1\n",
        "        total_cost += 1\n",
        "    elif action == \"right\":\n",
        "        position += 1\n",
        "        total_cost += 1\n",
        "\n",
        "    print(f\"Step {step}: Position: {position}, Action: {action}, Cost: {total_cost}, Target: {target}\")\n"
      ],
      "metadata": {
        "colab": {
          "base_uri": "https://localhost:8080/"
        },
        "id": "mhj_jDAE8eN0",
        "outputId": "f77bda5d-273b-4128-df25-e94d20813a0e"
      },
      "execution_count": 4,
      "outputs": [
        {
          "output_type": "stream",
          "name": "stdout",
          "text": [
            "Step 0: Position: 1, Action: right, Cost: 1, Target: 17\n",
            "Step 1: Position: 2, Action: right, Cost: 2, Target: 17\n",
            "Step 2: Position: 3, Action: right, Cost: 3, Target: 17\n",
            "Step 3: Position: 4, Action: right, Cost: 4, Target: 17\n",
            "Step 4: Position: 5, Action: right, Cost: 5, Target: 17\n",
            "Step 5: Position: 6, Action: right, Cost: 6, Target: 17\n",
            "Step 6: Position: 7, Action: right, Cost: 7, Target: 17\n",
            "Step 7: Position: 8, Action: right, Cost: 8, Target: 17\n",
            "Step 8: Position: 9, Action: right, Cost: 9, Target: 17\n",
            "Step 9: Position: 10, Action: right, Cost: 10, Target: 17\n"
          ]
        }
      ]
    }
  ]
}